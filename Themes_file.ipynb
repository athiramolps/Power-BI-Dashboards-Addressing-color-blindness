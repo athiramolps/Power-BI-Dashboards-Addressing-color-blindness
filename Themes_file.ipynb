{
  "nbformat": 4,
  "nbformat_minor": 0,
  "metadata": {
    "colab": {
      "provenance": []
    },
    "kernelspec": {
      "name": "python3",
      "display_name": "Python 3"
    },
    "language_info": {
      "name": "python"
    }
  },
  "cells": [
    {
      "cell_type": "markdown",
      "source": [
        "# 1) Red-Green Color Blindness"
      ],
      "metadata": {
        "id": "ZmvKuWKpB8pc"
      }
    },
    {
      "cell_type": "markdown",
      "source": [
        "Deuteranomaly"
      ],
      "metadata": {
        "id": "y4sjTgX2BwFr"
      }
    },
    {
      "cell_type": "code",
      "execution_count": 5,
      "metadata": {
        "colab": {
          "base_uri": "https://localhost:8080/"
        },
        "id": "ziYx8P-fBHQs",
        "outputId": "529b8296-501e-4b56-bcd1-c3f2d1e640b8"
      },
      "outputs": [
        {
          "output_type": "stream",
          "name": "stdout",
          "text": [
            "Deuteranomaly Theme has been saved to a JSON file.\n"
          ]
        }
      ],
      "source": [
        "import json\n",
        "\n",
        "# Define the Deuteranomaly Theme data\n",
        "Deuteranomaly_Theme = {\n",
        "    \"name\": \"Deuteranomaly Theme\",\n",
        "    \"firstLevelElements\": {\n",
        "        \"background\": \"Gray (#808080)\",\n",
        "        \"text\": \"Black (#000000)\",\n",
        "        \"links\": \"Blue (#0000FF)\",\n",
        "        \"buttons\": \"Yellow (#FFFF00)\",\n",
        "        \"accents\": \"Gray (#808080)\"\n",
        "    },\n",
        "    \"secondLevelElements\": {\n",
        "        \"background\": \"Gray (#808080)\",\n",
        "        \"text\": \"Black (#000000)\",\n",
        "        \"links\": \"Blue (#0000FF)\",\n",
        "        \"buttons\": \"Yellow (#FFFF00)\",\n",
        "        \"accents\": \"Gray (#808080)\"\n",
        "    },\n",
        "    \"thirdLevelElements\": {\n",
        "        \"background\": \"Gray (#808080)\",\n",
        "        \"text\": \"Black (#000000)\",\n",
        "        \"links\": \"Blue (#0000FF)\",\n",
        "        \"buttons\": \"Yellow (#FFFF00)\",\n",
        "        \"accents\": \"Gray (#808080)\"\n",
        "    },\n",
        "    \"fourthLevelElements\": {\n",
        "        \"background\": \"Gray (#808080)\",\n",
        "        \"text\": \"Black (#000000)\",\n",
        "        \"links\": \"Blue (#0000FF)\",\n",
        "        \"buttons\": \"Yellow (#FFFF00)\",\n",
        "        \"accents\": \"Gray (#808080)\"\n",
        "    },\n",
        "    \"background\": \"Light Gray (#D3D3D3)\",\n",
        "    \"secondaryBackground\": \"Dark Gray (#333333)\",\n",
        "    \"tableAccent\": \"Gray (#808080)\"\n",
        "}\n",
        "\n",
        "# Save the Deuteranomaly Theme to a JSON file\n",
        "with open(\"Deuteranomaly_Theme.json\", \"w\") as file:\n",
        "    json.dump(Deuteranomaly_Theme, file, indent=4)\n",
        "\n",
        "print(\"Deuteranomaly Theme has been saved to a JSON file.\")\n"
      ]
    },
    {
      "cell_type": "markdown",
      "source": [
        "Deuteranopia"
      ],
      "metadata": {
        "id": "fMDtC0juB1ND"
      }
    },
    {
      "cell_type": "code",
      "source": [
        "import json\n",
        "\n",
        "# Define the Deuteranopia Theme data\n",
        "Deuteranopia_Theme = {\n",
        "    \"name\": \"Deuteranopia Theme\",\n",
        "    \"firstLevelElements\": {\n",
        "        \"background\": \"Gray (#808080)\",\n",
        "        \"text\": \"Black (#000000)\",\n",
        "        \"links\": \"Blue (#0000FF)\",\n",
        "        \"buttons\": \"Orange (#FFA500)\",\n",
        "        \"accents\": \"Gray (#808080)\"\n",
        "    },\n",
        "    \"secondLevelElements\": {\n",
        "        \"background\": \"Gray (#808080)\",\n",
        "        \"text\": \"Black (#000000)\",\n",
        "        \"links\": \"Blue (#0000FF)\",\n",
        "        \"buttons\": \"Orange (#FFA500)\",\n",
        "        \"accents\": \"Gray (#808080)\"\n",
        "    },\n",
        "    \"thirdLevelElements\": {\n",
        "        \"background\": \"Gray (#808080)\",\n",
        "        \"text\": \"Black (#000000)\",\n",
        "        \"links\": \"Blue (#0000FF)\",\n",
        "        \"buttons\": \"Orange (#FFA500)\",\n",
        "        \"accents\": \"Gray (#808080)\"\n",
        "    },\n",
        "    \"fourthLevelElements\": {\n",
        "        \"background\": \"Gray (#808080)\",\n",
        "        \"text\": \"Black (#000000)\",\n",
        "        \"links\": \"Blue (#0000FF)\",\n",
        "        \"buttons\": \"Orange (#FFA500)\",\n",
        "        \"accents\": \"Gray (#808080)\"\n",
        "    },\n",
        "    \"background\": \"Light Gray (#D3D3D3)\",\n",
        "    \"secondaryBackground\": \"Dark Gray (#333333)\",\n",
        "    \"tableAccent\": \"Gray (#808080)\"\n",
        "}\n",
        "\n",
        "# Save the Deuteranopia Theme to a JSON file\n",
        "with open(\"Deuteranopia_Theme.json\", \"w\") as file:\n",
        "    json.dump(Deuteranopia_Theme, file, indent=4)\n",
        "\n",
        "print(\"Deuteranopia Theme has been saved to a JSON file.\")\n"
      ],
      "metadata": {
        "id": "ZGbk1K6ABrB3",
        "colab": {
          "base_uri": "https://localhost:8080/"
        },
        "outputId": "93e87854-aeb5-4318-e13f-e4e47e6aaa9f"
      },
      "execution_count": 6,
      "outputs": [
        {
          "output_type": "stream",
          "name": "stdout",
          "text": [
            "Deuteranopia Theme has been saved to a JSON file.\n"
          ]
        }
      ]
    },
    {
      "cell_type": "markdown",
      "source": [
        "Protanomaly"
      ],
      "metadata": {
        "id": "yX1ylohAB3Va"
      }
    },
    {
      "cell_type": "code",
      "source": [
        "import json\n",
        "\n",
        "# Define the Protanomaly Theme data\n",
        "Protanomaly_Theme = {\n",
        "    \"name\": \"Protanomaly Theme\",\n",
        "    \"firstLevelElements\": {\n",
        "        \"background\": \"Gray (#808080)\",\n",
        "        \"text\": \"Black (#000000)\",\n",
        "        \"links\": \"Blue (#0000FF)\",\n",
        "        \"buttons\": \"Green (#008000)\",\n",
        "        \"accents\": \"Gray (#808080)\"\n",
        "    },\n",
        "    \"secondLevelElements\": {\n",
        "        \"background\": \"Gray (#808080)\",\n",
        "        \"text\": \"Black (#000000)\",\n",
        "        \"links\": \"Blue (#0000FF)\",\n",
        "        \"buttons\": \"Green (#008000)\",\n",
        "        \"accents\": \"Gray (#808080)\"\n",
        "    },\n",
        "    \"thirdLevelElements\": {\n",
        "        \"background\": \"Gray (#808080)\",\n",
        "        \"text\": \"Black (#000000)\",\n",
        "        \"links\": \"Blue (#0000FF)\",\n",
        "        \"buttons\": \"Green (#008000)\",\n",
        "        \"accents\": \"Gray (#808080)\"\n",
        "    },\n",
        "    \"fourthLevelElements\": {\n",
        "        \"background\": \"Gray (#808080)\",\n",
        "        \"text\": \"Black (#000000)\",\n",
        "        \"links\": \"Blue (#0000FF)\",\n",
        "        \"buttons\": \"Green (#008000)\",\n",
        "        \"accents\": \"Gray (#808080)\"\n",
        "    },\n",
        "    \"background\": \"Light Gray (#D3D3D3)\",\n",
        "    \"secondaryBackground\": \"Dark Gray (#333333)\",\n",
        "    \"tableAccent\": \"Gray (#808080)\"\n",
        "}\n",
        "\n",
        "# Save the Protanomaly Theme to a JSON file\n",
        "with open(\"Protanomaly_Theme.json\", \"w\") as file:\n",
        "    json.dump(Protanomaly_Theme, file, indent=4)\n",
        "\n",
        "print(\"Protanomaly Theme has been saved to a JSON file.\")\n"
      ],
      "metadata": {
        "id": "grsQThryBq-W",
        "colab": {
          "base_uri": "https://localhost:8080/"
        },
        "outputId": "51017eb2-51dc-4e41-eaa9-0a192bf260a9"
      },
      "execution_count": 7,
      "outputs": [
        {
          "output_type": "stream",
          "name": "stdout",
          "text": [
            "Protanomaly Theme has been saved to a JSON file.\n"
          ]
        }
      ]
    },
    {
      "cell_type": "markdown",
      "source": [
        "Protanopia"
      ],
      "metadata": {
        "id": "Ph7_S9qBB4QK"
      }
    },
    {
      "cell_type": "code",
      "source": [
        "import json\n",
        "\n",
        "# Define the Protanopia Theme data\n",
        "Protanopia_Theme = {\n",
        "    \"name\": \"Protanopia Theme\",\n",
        "    \"firstLevelElements\": {\n",
        "        \"background\": \"Gray (#808080)\",\n",
        "        \"text\": \"Black (#000000)\",\n",
        "        \"links\": \"Blue (#0000FF)\",\n",
        "        \"buttons\": \"Yellow (#FFFF00)\",\n",
        "        \"accents\": \"Gray (#808080)\"\n",
        "    },\n",
        "    \"secondLevelElements\": {\n",
        "        \"background\": \"Gray (#808080)\",\n",
        "        \"text\": \"Black (#000000)\",\n",
        "        \"links\": \"Blue (#0000FF)\",\n",
        "        \"buttons\": \"Yellow (#FFFF00)\",\n",
        "        \"accents\": \"Gray (#808080)\"\n",
        "    },\n",
        "    \"thirdLevelElements\": {\n",
        "        \"background\": \"Gray (#808080)\",\n",
        "        \"text\": \"Black (#000000)\",\n",
        "        \"links\": \"Blue (#0000FF)\",\n",
        "        \"buttons\": \"Yellow (#FFFF00)\",\n",
        "        \"accents\": \"Gray (#808080)\"\n",
        "    },\n",
        "    \"fourthLevelElements\": {\n",
        "        \"background\": \"Gray (#808080)\",\n",
        "        \"text\": \"Black (#000000)\",\n",
        "        \"links\": \"Blue (#0000FF)\",\n",
        "        \"buttons\": \"Yellow (#FFFF00)\",\n",
        "        \"accents\": \"Gray (#808080)\"\n",
        "    },\n",
        "    \"background\": \"Light Gray (#D3D3D3)\",\n",
        "    \"secondaryBackground\": \"Dark Gray (#333333)\",\n",
        "    \"tableAccent\": \"Gray (#808080)\"\n",
        "}\n",
        "\n",
        "# Save the Protanopia Theme to a JSON file\n",
        "with open(\"Protanopia_Theme.json\", \"w\") as file:\n",
        "    json.dump(Protanopia_Theme, file, indent=4)\n",
        "\n",
        "print(\"Protanopia Theme has been saved to a JSON file.\")\n"
      ],
      "metadata": {
        "id": "HZQnlpOOBq23",
        "colab": {
          "base_uri": "https://localhost:8080/"
        },
        "outputId": "2188bdcc-db0e-4a04-b6c5-dec2c922ee25"
      },
      "execution_count": 8,
      "outputs": [
        {
          "output_type": "stream",
          "name": "stdout",
          "text": [
            "Protanopia Theme has been saved to a JSON file.\n"
          ]
        }
      ]
    },
    {
      "cell_type": "markdown",
      "source": [
        "# 2) Blue-Yellow Color Blindness"
      ],
      "metadata": {
        "id": "dYPxbwtrCAZJ"
      }
    },
    {
      "cell_type": "markdown",
      "source": [
        "Tritanomaly"
      ],
      "metadata": {
        "id": "RSNsYp6FCF1u"
      }
    },
    {
      "cell_type": "code",
      "source": [
        "import json\n",
        "\n",
        "# Define the Tritanomaly Theme data\n",
        "Tritanomaly_Theme = {\n",
        "    \"name\": \"Tritanomaly Theme\",\n",
        "    \"firstLevelElements\": {\n",
        "        \"background\": \"Gray (#808080)\",\n",
        "        \"text\": \"Black (#000000)\",\n",
        "        \"links\": \"Red (#FF0000)\",\n",
        "        \"buttons\": \"Green (#008000)\",\n",
        "        \"accents\": \"Gray (#808080)\"\n",
        "    },\n",
        "    \"secondLevelElements\": {\n",
        "        \"background\": \"Gray (#808080)\",\n",
        "        \"text\": \"Black (#000000)\",\n",
        "        \"links\": \"Red (#FF0000)\",\n",
        "        \"buttons\": \"Green (#008000)\",\n",
        "        \"accents\": \"Gray (#808080)\"\n",
        "    },\n",
        "    \"thirdLevelElements\": {\n",
        "        \"background\": \"Gray (#808080)\",\n",
        "        \"text\": \"Black (#000000)\",\n",
        "        \"links\": \"Red (#FF0000)\",\n",
        "        \"buttons\": \"Green (#008000)\",\n",
        "        \"accents\": \"Gray (#808080)\"\n",
        "    },\n",
        "    \"fourthLevelElements\": {\n",
        "        \"background\": \"Gray (#808080)\",\n",
        "        \"text\": \"Black (#000000)\",\n",
        "        \"links\": \"Red (#FF0000)\",\n",
        "        \"buttons\": \"Green (#008000)\",\n",
        "        \"accents\": \"Gray (#808080)\"\n",
        "    },\n",
        "    \"background\": \"Light Gray (#D3D3D3)\",\n",
        "    \"secondaryBackground\": \"Dark Gray (#333333)\",\n",
        "    \"tableAccent\": \"Gray (#808080)\"\n",
        "}\n",
        "\n",
        "# Save the Tritanomaly Theme to a JSON file\n",
        "with open(\"Tritanomaly_Theme.json\", \"w\") as file:\n",
        "    json.dump(Tritanomaly_Theme, file, indent=4)\n",
        "\n",
        "print(\"Tritanomaly Theme has been saved to a JSON file.\")\n"
      ],
      "metadata": {
        "id": "zyFHI1PvBqzm",
        "colab": {
          "base_uri": "https://localhost:8080/"
        },
        "outputId": "3e9085c4-0d87-4fb3-debe-b3d2bdc4a466"
      },
      "execution_count": 9,
      "outputs": [
        {
          "output_type": "stream",
          "name": "stdout",
          "text": [
            "Tritanomaly Theme has been saved to a JSON file.\n"
          ]
        }
      ]
    },
    {
      "cell_type": "markdown",
      "source": [
        "Tritanopia"
      ],
      "metadata": {
        "id": "fzpfKDG8CIbu"
      }
    },
    {
      "cell_type": "code",
      "source": [
        "import json\n",
        "\n",
        "# Define the Tritanopia Theme data\n",
        "Tritanopia_Theme = {\n",
        "    \"name\": \"Tritanopia Theme\",\n",
        "    \"firstLevelElements\": {\n",
        "        \"background\": \"Gray (#808080)\",\n",
        "        \"text\": \"Black (#000000)\",\n",
        "        \"links\": \"Red (#FF0000)\",\n",
        "        \"buttons\": \"Green (#008000)\",\n",
        "        \"accents\": \"Gray (#808080)\"\n",
        "    },\n",
        "    \"secondLevelElements\": {\n",
        "        \"background\": \"Gray (#808080)\",\n",
        "        \"text\": \"Black (#000000)\",\n",
        "        \"links\": \"Red (#FF0000)\",\n",
        "        \"buttons\": \"Green (#008000)\",\n",
        "        \"accents\": \"Gray (#808080)\"\n",
        "    },\n",
        "    \"thirdLevelElements\": {\n",
        "        \"background\": \"Gray (#808080)\",\n",
        "        \"text\": \"Black (#000000)\",\n",
        "        \"links\": \"Red (#FF0000)\",\n",
        "        \"buttons\": \"Green (#008000)\",\n",
        "        \"accents\": \"Gray (#808080)\"\n",
        "    },\n",
        "    \"fourthLevelElements\": {\n",
        "        \"background\": \"Gray (#808080)\",\n",
        "        \"text\": \"Black (#000000)\",\n",
        "        \"links\": \"Red (#FF0000)\",\n",
        "        \"buttons\": \"Green (#008000)\",\n",
        "        \"accents\": \"Gray (#808080)\"\n",
        "    },\n",
        "    \"background\": \"Light Gray (#D3D3D3)\",\n",
        "    \"secondaryBackground\": \"Dark Gray (#333333)\",\n",
        "    \"tableAccent\": \"Gray (#808080)\"\n",
        "}\n",
        "\n",
        "# Save the Tritanopia Theme to a JSON file\n",
        "with open(\"Tritanopia_Theme.json\", \"w\") as file:\n",
        "    json.dump(Tritanopia_Theme, file, indent=4)\n",
        "\n",
        "print(\"Tritanopia Theme has been saved to a JSON file.\")\n"
      ],
      "metadata": {
        "id": "Rdov52NWBqsX",
        "colab": {
          "base_uri": "https://localhost:8080/"
        },
        "outputId": "a3df8901-ba00-4bbf-9ee6-f6dd2510def1"
      },
      "execution_count": 10,
      "outputs": [
        {
          "output_type": "stream",
          "name": "stdout",
          "text": [
            "Tritanopia Theme has been saved to a JSON file.\n"
          ]
        }
      ]
    },
    {
      "cell_type": "markdown",
      "source": [
        "# 3) Total Color Blindness"
      ],
      "metadata": {
        "id": "5AUcARryCKtS"
      }
    },
    {
      "cell_type": "markdown",
      "source": [
        "Achromatomaly"
      ],
      "metadata": {
        "id": "V52NkOruCMrj"
      }
    },
    {
      "cell_type": "code",
      "source": [
        "import json\n",
        "\n",
        "# Define the Achromatomaly Theme data\n",
        "Achromatomaly_Theme = {\n",
        "    \"name\": \"Achromatomaly Theme\",\n",
        "    \"firstLevelElements\": {\n",
        "        \"background\": \"Light Gray (#D3D3D3)\",\n",
        "        \"text\": \"Black (#000000)\",\n",
        "        \"links\": \"Gray (#808080)\",\n",
        "        \"buttons\": \"Dark Gray (#333333)\",\n",
        "        \"accents\": \"Light Gray (#D3D3D3)\"\n",
        "    },\n",
        "    \"secondLevelElements\": {\n",
        "        \"background\": \"Light Gray (#D3D3D3)\",\n",
        "        \"text\": \"Black (#000000)\",\n",
        "        \"links\": \"Gray (#808080)\",\n",
        "        \"buttons\": \"Dark Gray (#333333)\",\n",
        "        \"accents\": \"Light Gray (#D3D3D3)\"\n",
        "    },\n",
        "    \"thirdLevelElements\": {\n",
        "        \"background\": \"Light Gray (#D3D3D3)\",\n",
        "        \"text\": \"Black (#000000)\",\n",
        "        \"links\": \"Gray (#808080)\",\n",
        "        \"buttons\": \"Dark Gray (#333333)\",\n",
        "        \"accents\": \"Light Gray (#D3D3D3)\"\n",
        "    },\n",
        "    \"fourthLevelElements\": {\n",
        "        \"background\": \"Light Gray (#D3D3D3)\",\n",
        "        \"text\": \"Black (#000000)\",\n",
        "        \"links\": \"Gray (#808080)\",\n",
        "        \"buttons\": \"Dark Gray (#333333)\",\n",
        "        \"accents\": \"Light Gray (#D3D3D3)\"\n",
        "    },\n",
        "    \"background\": \"Light Gray (#D3D3D3)\",\n",
        "    \"secondaryBackground\": \"White (#FFFFFF)\",\n",
        "    \"tableAccent\": \"Gray (#808080)\"\n",
        "}\n",
        "\n",
        "# Save the Achromatomaly Theme to a JSON file\n",
        "with open(\"Achromatomaly_Theme.json\", \"w\") as file:\n",
        "    json.dump(Achromatomaly_Theme, file, indent=4)\n",
        "\n",
        "print(\"Achromatomaly Theme has been saved to a JSON file.\")\n"
      ],
      "metadata": {
        "id": "yX0W2bFXBqpZ",
        "colab": {
          "base_uri": "https://localhost:8080/"
        },
        "outputId": "88302af1-226c-4641-e59c-6c0e9f370f12"
      },
      "execution_count": 11,
      "outputs": [
        {
          "output_type": "stream",
          "name": "stdout",
          "text": [
            "Achromatomaly Theme has been saved to a JSON file.\n"
          ]
        }
      ]
    },
    {
      "cell_type": "markdown",
      "source": [
        "Achromatopsia"
      ],
      "metadata": {
        "id": "pNriYr3DCPuP"
      }
    },
    {
      "cell_type": "code",
      "source": [
        "import json\n",
        "\n",
        "# Define the Achromatopsia Theme data\n",
        "Achromatopsia_Theme = {\n",
        "    \"name\": \"Achromatopsia Theme\",\n",
        "    \"firstLevelElements\": {\n",
        "        \"background\": \"Dark Gray (#333333)\",\n",
        "        \"text\": \"Black (#000000)\",\n",
        "        \"links\": \"Light Gray (#CCCCCC)\",\n",
        "        \"buttons\": \"Mid-Gray (#808080)\",\n",
        "        \"accents\": \"Dark Gray (#333333)\"\n",
        "    },\n",
        "    \"secondLevelElements\": {\n",
        "        \"background\": \"Dark Gray (#333333)\",\n",
        "        \"text\": \"Black (#000000)\",\n",
        "        \"links\": \"Light Gray (#CCCCCC)\",\n",
        "        \"buttons\": \"Mid-Gray (#808080)\",\n",
        "        \"accents\": \"Dark Gray (#333333)\"\n",
        "    },\n",
        "    \"thirdLevelElements\": {\n",
        "        \"background\": \"Dark Gray (#333333)\",\n",
        "        \"text\": \"Black (#000000)\",\n",
        "        \"links\": \"Light Gray (#CCCCCC)\",\n",
        "        \"buttons\": \"Mid-Gray (#808080)\",\n",
        "        \"accents\": \"Dark Gray (#333333)\"\n",
        "    },\n",
        "    \"fourthLevelElements\": {\n",
        "        \"background\": \"Dark Gray (#333333)\",\n",
        "        \"text\": \"Black (#000000)\",\n",
        "        \"links\": \"Light Gray (#CCCCCC)\",\n",
        "        \"buttons\": \"Mid-Gray (#808080)\",\n",
        "        \"accents\": \"Dark Gray (#333333)\"\n",
        "    },\n",
        "    \"background\": \"Dark Gray (#333333)\",\n",
        "    \"secondaryBackground\": \"White (#FFFFFF)\",\n",
        "    \"tableAccent\": \"Dark Gray (#333333)\"\n",
        "}\n",
        "\n",
        "# Save the Achromatopsia Theme to a JSON file\n",
        "with open(\"Achromatopsia_Theme.json\", \"w\") as file:\n",
        "    json.dump(Achromatopsia_Theme, file, indent=4)\n",
        "\n",
        "print(\"Achromatopsia Theme has been saved to a JSON file.\")\n"
      ],
      "metadata": {
        "id": "DvLzQpCdBqd8",
        "colab": {
          "base_uri": "https://localhost:8080/"
        },
        "outputId": "3b5da846-16a8-4de8-b33e-27d6a993acd5"
      },
      "execution_count": 12,
      "outputs": [
        {
          "output_type": "stream",
          "name": "stdout",
          "text": [
            "Achromatopsia Theme has been saved to a JSON file.\n"
          ]
        }
      ]
    }
  ]
}