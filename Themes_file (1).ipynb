{
  "nbformat": 4,
  "nbformat_minor": 0,
  "metadata": {
    "colab": {
      "provenance": []
    },
    "kernelspec": {
      "name": "python3",
      "display_name": "Python 3"
    },
    "language_info": {
      "name": "python"
    }
  },
  "cells": [
    {
      "cell_type": "markdown",
      "source": [
        "# Original palette"
      ],
      "metadata": {
        "id": "hJefQEsoiCCc"
      }
    },
    {
      "cell_type": "code",
      "source": [
        "import json\n",
        "\n",
        "# Define theme data for all categories\n",
        "themes = {\n",
        "    \"name\": \"Original Palette\",\n",
        "    \"dataColors\": [\"#003049\", \"#D62828\", \"#F77F00\", \"#FCBF49\"],\n",
        "    \"background\": \"#EAE287\",\n",
        "    \"foreground\": \"#003049\",\n",
        "    \"tableAccent\": \"#D62828\"\n",
        "}\n",
        "\n",
        "# Save theme to a JSON file\n",
        "with open('originaltheme.json', 'w') as json_file:\n",
        "    json.dump(themes, json_file, indent=4)\n"
      ],
      "metadata": {
        "id": "aEpRrEAIlxSJ"
      },
      "execution_count": 12,
      "outputs": []
    },
    {
      "cell_type": "markdown",
      "source": [
        "# 1) Red-Green Color Blindness"
      ],
      "metadata": {
        "id": "ZmvKuWKpB8pc"
      }
    },
    {
      "cell_type": "markdown",
      "source": [
        "Deuteranomaly"
      ],
      "metadata": {
        "id": "y4sjTgX2BwFr"
      }
    },
    {
      "cell_type": "code",
      "execution_count": 13,
      "metadata": {
        "id": "ziYx8P-fBHQs"
      },
      "outputs": [],
      "source": [
        "import json\n",
        "\n",
        "# Define the Deuteranomaly Theme data for all categories\n",
        "deuteranomaly_theme = {\n",
        "    \"name\": \"Deuteranomaly Theme\",\n",
        "    \"dataColors\": [\"#0084B4\", \"#E66E00\", \"#F4F4F4\", \"#333333\"],\n",
        "    \"background\": \"#FFFFFF\",\n",
        "    \"secondaryBackground\": \"#ECECEC\",\n",
        "    \"tableAccent\": \"#2D72C1\"\n",
        "}\n",
        "\n",
        "# Save the Deuteranomaly Theme to a JSON file\n",
        "with open('deuteranomaly_theme.json', 'w') as json_file:\n",
        "    json.dump(deuteranomaly_theme, json_file, indent=4)\n"
      ]
    },
    {
      "cell_type": "markdown",
      "source": [
        "Deuteranopia"
      ],
      "metadata": {
        "id": "fMDtC0juB1ND"
      }
    },
    {
      "cell_type": "code",
      "source": [
        "import json\n",
        "\n",
        "# Define the Deuteranopia Theme data for all categories\n",
        "deuteranopia_theme = {\n",
        "    \"name\": \"Deuteranopia Theme\",\n",
        "    \"dataColors\": [\"#0078A3\", \"#FF5146\", \"#F4F4F4\", \"#333333\"],\n",
        "    \"background\": \"#FFFFFF\",\n",
        "    \"secondaryBackground\": \"#ECECEC\",\n",
        "    \"tableAccent\": \"#2D72C1\"\n",
        "}\n",
        "\n",
        "# Save the Deuteranopia Theme to a JSON file\n",
        "with open('deuter.json', 'w') as json_file:\n",
        "    json.dump(deuteranopia_theme, json_file, indent=4)\n"
      ],
      "metadata": {
        "id": "ZGbk1K6ABrB3"
      },
      "execution_count": 22,
      "outputs": []
    },
    {
      "cell_type": "markdown",
      "source": [
        "Protanomaly"
      ],
      "metadata": {
        "id": "yX1ylohAB3Va"
      }
    },
    {
      "cell_type": "code",
      "source": [
        "import json\n",
        "\n",
        "# Define the Protanomaly Theme data for all categories\n",
        "protanomaly_theme = {\n",
        "    \"name\": \"Protanomaly Theme\",\n",
        "    \"dataColors\": [\"#082045\", \"#866128\", \"#E1A60F\", \"#F0D357\"],\n",
        "    \"background\": \"#E8E48C\",\n",
        "    \"secondaryBackground\": \"#F4F4F4\",\n",
        "    \"tableAccent\": \"#FF3333\"\n",
        "}\n",
        "\n",
        "# Save the Protanomaly Theme to a JSON file\n",
        "with open('protanomaly_theme.json', 'w') as json_file:\n",
        "    json.dump(protanomaly_theme, json_file, indent=4)\n"
      ],
      "metadata": {
        "id": "grsQThryBq-W"
      },
      "execution_count": 15,
      "outputs": []
    },
    {
      "cell_type": "markdown",
      "source": [
        "Protanopia"
      ],
      "metadata": {
        "id": "Ph7_S9qBB4QK"
      }
    },
    {
      "cell_type": "code",
      "source": [
        "import json\n",
        "\n",
        "# Define the Protanopia Theme data for all categories\n",
        "protanopia_theme = {\n",
        "    \"name\": \"Protanopia Theme\",\n",
        "    \"dataColors\": [\"#141542\", \"#8A8928\", \"#C3C11E\", \"#E1E165\"],\n",
        "    \"background\": \"#E6E6C1\",\n",
        "    \"secondaryBackground\": \"#F4F4F4\",\n",
        "    \"tableAccent\": \"#FF3333\"\n",
        "}\n",
        "\n",
        "# Save the Protanopia Theme to a JSON file\n",
        "with open('protanopia_theme.json', 'w') as json_file:\n",
        "    json.dump(protanopia_theme, json_file, indent=4)\n"
      ],
      "metadata": {
        "id": "HZQnlpOOBq23"
      },
      "execution_count": 16,
      "outputs": []
    },
    {
      "cell_type": "markdown",
      "source": [
        "# 2) Blue-Yellow Color Blindness"
      ],
      "metadata": {
        "id": "dYPxbwtrCAZJ"
      }
    },
    {
      "cell_type": "markdown",
      "source": [
        "Tritanomaly"
      ],
      "metadata": {
        "id": "RSNsYp6FCF1u"
      }
    },
    {
      "cell_type": "code",
      "source": [
        "import json\n",
        "\n",
        "# Define the Tritanomaly Theme data for all categories\n",
        "tritanomaly_theme = {\n",
        "    \"name\": \"Tritanomaly Theme\",\n",
        "    \"dataColors\": [\"#013644\", \"#D02828\", \"#F35D17\", \"#F99F5E\"],\n",
        "    \"background\": \"#E9D6BE\",\n",
        "    \"secondaryBackground\": \"#F4F4F4\",\n",
        "    \"tableAccent\": \"#33A5FF\"\n",
        "}\n",
        "\n",
        "# Save the Tritanomaly Theme to a JSON file\n",
        "with open('tnmly.json', 'w') as json_file:\n",
        "    json.dump(tritanomaly_theme, json_file, indent=4)\n"
      ],
      "metadata": {
        "id": "zyFHI1PvBqzm"
      },
      "execution_count": 31,
      "outputs": []
    },
    {
      "cell_type": "markdown",
      "source": [
        "Tritanopia"
      ],
      "metadata": {
        "id": "fzpfKDG8CIbu"
      }
    },
    {
      "cell_type": "code",
      "source": [
        "import json\n",
        "\n",
        "# Define the Tritanopia Theme data for all categories\n",
        "tritanopia_theme = {\n",
        "    \"name\": \"Tritanopia Theme\",\n",
        "    \"dataColors\": [\"#023E3D\", \"#CD2828\", \"#F0363C\", \"#F87C81\"],\n",
        "    \"background\": \"#E9C9CB\",\n",
        "    \"secondaryBackground\": \"#F4F4F4\",\n",
        "    \"tableAccent\": \"#33A5FF\"\n",
        "}\n",
        "\n",
        "# Save the Tritanopia Theme to a JSON file\n",
        "with open('tritanopia_theme.json', 'w') as json_file:\n",
        "    json.dump(tritanopia_theme, json_file, indent=4)"
      ],
      "metadata": {
        "id": "Rdov52NWBqsX"
      },
      "execution_count": 18,
      "outputs": []
    },
    {
      "cell_type": "markdown",
      "source": [
        "# 3) Total Color Blindness"
      ],
      "metadata": {
        "id": "5AUcARryCKtS"
      }
    },
    {
      "cell_type": "markdown",
      "source": [
        "Achromatomaly"
      ],
      "metadata": {
        "id": "V52NkOruCMrj"
      }
    },
    {
      "cell_type": "code",
      "source": [
        "import json\n",
        "\n",
        "# Define the Achromatomaly Theme data for all categories\n",
        "achromatomaly_theme = {\n",
        "    \"name\": \"Achromatomaly Theme\",\n",
        "    \"dataColors\": [\"#132935\", \"#934444\", \"#C18A50\", \"#DDC18B\"],\n",
        "    \"background\": \"#EAEOCC\",\n",
        "    \"secondaryBackground\": \"#F4F4F4\",\n",
        "    \"tableAccent\": \"#666666\"\n",
        "}\n",
        "\n",
        "# Save the Achromatomaly Theme to a JSON file\n",
        "with open('achromatomaly_theme.json', 'w') as json_file:\n",
        "    json.dump(achromatomaly_theme, json_file, indent=4)\n"
      ],
      "metadata": {
        "id": "yX0W2bFXBqpZ"
      },
      "execution_count": 19,
      "outputs": []
    },
    {
      "cell_type": "markdown",
      "source": [
        "Achromatopsia"
      ],
      "metadata": {
        "id": "pNriYr3DCPuP"
      }
    },
    {
      "cell_type": "code",
      "source": [
        "import json\n",
        "\n",
        "# Define the Achromatopsia Theme data for all categories\n",
        "achromatopsia_theme = {\n",
        "    \"name\": \"Achromatopsia Theme\",\n",
        "    \"dataColors\": [\"#242424\", \"#5C5C5C\", \"#949494\", \"#CCCCCC\"],\n",
        "    \"background\": \"#DFDFDF\",\n",
        "    \"secondaryBackground\": \"#F4F4F4\",\n",
        "    \"tableAccent\": \"#666666\"\n",
        "}\n",
        "\n",
        "# Save the Achromatopsia Theme to a JSON file\n",
        "with open('ach.json', 'w') as json_file:\n",
        "    json.dump(achromatopsia_theme, json_file, indent=4)\n"
      ],
      "metadata": {
        "id": "DvLzQpCdBqd8"
      },
      "execution_count": 21,
      "outputs": []
    }
  ]
}